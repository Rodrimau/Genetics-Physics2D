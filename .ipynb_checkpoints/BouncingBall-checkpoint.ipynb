{
 "cells": [
  {
   "cell_type": "code",
   "execution_count": 1,
   "metadata": {},
   "outputs": [
    {
     "name": "stdout",
     "output_type": "stream",
     "text": [
      "Loading chipmunk for Windows (64bit) [C:\\Users\\rodri\\anaconda3\\lib\\site-packages\\pymunk\\chipmunk.dll]\n",
      "pygame 1.9.6\n",
      "Hello from the pygame community. https://www.pygame.org/contribute.html\n"
     ]
    }
   ],
   "source": [
    "import pymunk\n",
    "import pymunk.pygame_util\n",
    "import pygame\n"
   ]
  },
  {
   "cell_type": "code",
   "execution_count": 23,
   "metadata": {},
   "outputs": [],
   "source": [
    "GRAY = (220, 220, 220)\n",
    "\n",
    "pygame.init()\n",
    "size = 640, 240\n",
    "screen = pygame.display.set_mode(size)\n",
    "draw_options = pymunk.pygame_util.DrawOptions(screen)\n",
    "\n",
    "space = pymunk.Space()\n",
    "space.gravity = 0, -900\n",
    "\n",
    "b0 = space.static_body\n",
    "segment = pymunk.Segment(b0, (0, 0), (640, 0), 4)\n",
    "segment.elasticity = 1\n",
    "\n",
    "body = pymunk.Body(mass=1, moment=10)\n",
    "body.position = 100, 200\n",
    "\n",
    "circle = pymunk.Circle(body, radius=30)\n",
    "circle.elasticity = 0.95\n",
    "space.add(body, circle, segment)\n",
    "\n",
    "running = True\n",
    "while running:\n",
    "    clock.tick(27)\n",
    "\n",
    "    for event in pygame.event.get():\n",
    "        if event.type == pygame.QUIT:\n",
    "            running = False\n",
    "            pygame.image.save(screen, 'intro1.png')\n",
    "\n",
    "    screen.fill(GRAY)\n",
    "    space.debug_draw(draw_options)\n",
    "    pygame.display.update()\n",
    "    space.step(0.01)\n",
    "\n",
    "pygame.quit()"
   ]
  }
 ],
 "metadata": {
  "kernelspec": {
   "display_name": "Python 3",
   "language": "python",
   "name": "python3"
  },
  "language_info": {
   "codemirror_mode": {
    "name": "ipython",
    "version": 3
   },
   "file_extension": ".py",
   "mimetype": "text/x-python",
   "name": "python",
   "nbconvert_exporter": "python",
   "pygments_lexer": "ipython3",
   "version": "3.7.7"
  }
 },
 "nbformat": 4,
 "nbformat_minor": 4
}

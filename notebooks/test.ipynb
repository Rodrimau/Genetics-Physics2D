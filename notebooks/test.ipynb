{
 "cells": [
  {
   "cell_type": "code",
   "execution_count": 1,
   "metadata": {},
   "outputs": [
    {
     "name": "stdout",
     "output_type": "stream",
     "text": [
      "pygame 2.1.2 (SDL 2.0.18, Python 3.10.0)\n",
      "Hello from the pygame community. https://www.pygame.org/contribute.html\n"
     ]
    }
   ],
   "source": [
    "from pymunk.pygame_util import *\n",
    "from pygame import locals\n",
    "from pymunk.vec2d import Vec2d\n",
    "\n",
    "import pygame\n",
    "import pymunk"
   ]
  },
  {
   "cell_type": "code",
   "execution_count": 2,
   "metadata": {},
   "outputs": [
    {
     "name": "stdout",
     "output_type": "stream",
     "text": [
      "environ({'ACSETUPSVCPORT': '23210', 'ACSVCPORT': '17532', 'ALLUSERSPROFILE': 'C:\\\\ProgramData', 'AMDRMSDKPATH': 'C:\\\\Program Files\\\\AMD\\\\RyzenMasterSDK\\\\', 'APPDATA': 'C:\\\\Users\\\\Admin\\\\AppData\\\\Roaming', 'CHROME_CRASHPAD_PIPE_NAME': '\\\\\\\\.\\\\pipe\\\\LOCAL\\\\crashpad_1424_NEVOJOFZJEGWLYVK', 'COMMONPROGRAMFILES': 'C:\\\\Program Files\\\\Common Files', 'COMMONPROGRAMFILES(X86)': 'C:\\\\Program Files (x86)\\\\Common Files', 'COMMONPROGRAMW6432': 'C:\\\\Program Files\\\\Common Files', 'COMPUTERNAME': 'DESKTOP-V3UMJQU', 'COMSPEC': 'C:\\\\Windows\\\\system32\\\\cmd.exe', 'DRIVERDATA': 'C:\\\\Windows\\\\System32\\\\Drivers\\\\DriverData', 'ELECTRON_RUN_AS_NODE': '1', 'HOMEDRIVE': 'C:', 'HOMEPATH': '\\\\Users\\\\Admin', 'JPY_INTERRUPT_EVENT': '1740', 'LOCALAPPDATA': 'C:\\\\Users\\\\Admin\\\\AppData\\\\Local', 'LOGONSERVER': '\\\\\\\\DESKTOP-V3UMJQU', 'NUMBER_OF_PROCESSORS': '16', 'OCULUSBASE': 'D:\\\\Oculus\\\\', 'ONEDRIVE': 'C:\\\\Users\\\\Admin\\\\OneDrive', 'ONEDRIVECONSUMER': 'C:\\\\Users\\\\Admin\\\\OneDrive', 'ORIGINAL_XDG_CURRENT_DESKTOP': 'undefined', 'OS': 'Windows_NT', 'PATH': 'c:\\\\Users\\\\Admin\\\\AppData\\\\Local\\\\pypoetry\\\\Cache\\\\virtualenvs\\\\genetics-physics2d-113Tol8k-py3.10\\\\Scripts;C:\\\\Users\\\\Admin\\\\AppData\\\\Local\\\\pypoetry\\\\Cache\\\\virtualenvs\\\\genetics-physics2d-113Tol8k-py3.10\\\\Scripts;D:\\\\Oculus\\\\Support\\\\oculus-runtime;C:\\\\Windows\\\\system32;C:\\\\Windows;C:\\\\Windows\\\\System32\\\\Wbem;C:\\\\Windows\\\\System32\\\\WindowsPowerShell\\\\v1.0\\\\;C:\\\\Windows\\\\System32\\\\OpenSSH\\\\;C:\\\\Users\\\\Admin\\\\Git\\\\cmd;C:\\\\Users\\\\Admin\\\\.pyenv\\\\pyenv-win\\\\bin;C:\\\\Users\\\\Admin\\\\.pyenv\\\\pyenv-win\\\\shims;C:\\\\Users\\\\Admin\\\\AppData\\\\Local\\\\Microsoft\\\\WindowsApps;C:\\\\Program Files (x86)\\\\Microsoft VS Code\\\\bin;;c:\\\\Users\\\\Admin\\\\AppData\\\\Local\\\\pypoetry\\\\Cache\\\\virtualenvs\\\\genetics-physics2d-113Tol8k-py3.10\\\\lib\\\\site-packages\\\\pygame', 'PATHEXT': '.COM;.EXE;.BAT;.CMD;.VBS;.VBE;.JS;.JSE;.WSF;.WSH;.MSC', 'PROCESSOR_ARCHITECTURE': 'AMD64', 'PROCESSOR_IDENTIFIER': 'AMD64 Family 25 Model 80 Stepping 0, AuthenticAMD', 'PROCESSOR_LEVEL': '25', 'PROCESSOR_REVISION': '5000', 'PROGRAMDATA': 'C:\\\\ProgramData', 'PROGRAMFILES': 'C:\\\\Program Files', 'PROGRAMFILES(X86)': 'C:\\\\Program Files (x86)', 'PROGRAMW6432': 'C:\\\\Program Files', 'PROMPT': '(genetics-physics2d-py3.10) $P$G', 'PSMODULEPATH': 'C:\\\\Program Files\\\\WindowsPowerShell\\\\Modules;C:\\\\Windows\\\\system32\\\\WindowsPowerShell\\\\v1.0\\\\Modules', 'PUBLIC': 'C:\\\\Users\\\\Public', 'PYDEVD_IPYTHON_COMPATIBLE_DEBUGGING': '1', 'PYENV': '\\\\.pyenv\\\\pyenv-win\\\\', 'PYENV_HOME': '\\\\.pyenv\\\\pyenv-win\\\\', 'PYENV_ROOT': '\\\\.pyenv\\\\pyenv-win\\\\', 'PYTHONIOENCODING': 'utf-8', 'PYTHONPATH': 'C:\\\\Users\\\\Admin\\\\repositorios\\\\Genetics-Physics2D\\\\bin;C:\\\\Users\\\\Admin\\\\repositorios\\\\Genetics-Physics2D\\\\bin', 'PYTHONUNBUFFERED': '1', 'RLSSVCPORT': '22112', 'SESSIONNAME': 'Console', 'SYSTEMDRIVE': 'C:', 'SYSTEMROOT': 'C:\\\\Windows', 'TEMP': 'C:\\\\Users\\\\Admin\\\\AppData\\\\Local\\\\Temp', 'TMP': 'C:\\\\Users\\\\Admin\\\\AppData\\\\Local\\\\Temp', 'USERDOMAIN': 'DESKTOP-V3UMJQU', 'USERDOMAIN_ROAMINGPROFILE': 'DESKTOP-V3UMJQU', 'USERNAME': 'Admin', 'USERPROFILE': 'C:\\\\Users\\\\Admin', 'VIRTUAL_ENV': 'C:\\\\Users\\\\Admin\\\\AppData\\\\Local\\\\pypoetry\\\\Cache\\\\virtualenvs\\\\genetics-physics2d-113Tol8k-py3.10', 'VSCODE_AMD_ENTRYPOINT': 'vs/workbench/api/node/extensionHostProcess', 'VSCODE_CODE_CACHE_PATH': 'C:\\\\Users\\\\Admin\\\\AppData\\\\Roaming\\\\Code\\\\CachedData\\\\5235c6bb189b60b01b1f49062f4ffa42384f8c91', 'VSCODE_CWD': 'C:\\\\Program Files (x86)\\\\Microsoft VS Code', 'VSCODE_HANDLES_UNCAUGHT_ERRORS': 'true', 'VSCODE_IPC_HOOK': '\\\\\\\\.\\\\pipe\\\\1fa9692ca970862365dc969f915639a2-1.74.0-main-sock', 'VSCODE_NLS_CONFIG': '{\"locale\":\"en-us\",\"availableLanguages\":{},\"_languagePackSupport\":true}', 'VSCODE_PID': '1424', 'WINDIR': 'C:\\\\Windows', '_OLD_VIRTUAL_PATH': 'D:\\\\Oculus\\\\Support\\\\oculus-runtime;C:\\\\Windows\\\\system32;C:\\\\Windows;C:\\\\Windows\\\\System32\\\\Wbem;C:\\\\Windows\\\\System32\\\\WindowsPowerShell\\\\v1.0\\\\;C:\\\\Windows\\\\System32\\\\OpenSSH\\\\;C:\\\\Users\\\\Admin\\\\Git\\\\cmd;C:\\\\Users\\\\Admin\\\\.pyenv\\\\pyenv-win\\\\bin;C:\\\\Users\\\\Admin\\\\.pyenv\\\\pyenv-win\\\\shims;C:\\\\Users\\\\Admin\\\\AppData\\\\Local\\\\Microsoft\\\\WindowsApps;C:\\\\Program Files (x86)\\\\Microsoft VS Code\\\\bin;', '_OLD_VIRTUAL_PROMPT': '$P$G', 'TERM': 'xterm-color', 'CLICOLOR': '1', 'PAGER': 'cat', 'GIT_PAGER': 'cat', 'MPLBACKEND': 'module://matplotlib_inline.backend_inline'})\n"
     ]
    }
   ],
   "source": [
    "import os\n",
    "print(os.environ)"
   ]
  },
  {
   "cell_type": "code",
   "execution_count": 3,
   "metadata": {},
   "outputs": [
    {
     "data": {
      "text/plain": [
       "['c:\\\\Users\\\\Admin\\\\repositorios\\\\Genetics-Physics2D\\\\notebooks',\n",
       " 'C:\\\\Users\\\\Admin\\\\repositorios\\\\Genetics-Physics2D\\\\bin',\n",
       " 'C:\\\\Users\\\\Admin\\\\.pyenv\\\\pyenv-win\\\\versions\\\\3.10.0\\\\python310.zip',\n",
       " 'C:\\\\Users\\\\Admin\\\\.pyenv\\\\pyenv-win\\\\versions\\\\3.10.0\\\\DLLs',\n",
       " 'C:\\\\Users\\\\Admin\\\\.pyenv\\\\pyenv-win\\\\versions\\\\3.10.0\\\\lib',\n",
       " 'C:\\\\Users\\\\Admin\\\\.pyenv\\\\pyenv-win\\\\versions\\\\3.10.0',\n",
       " 'c:\\\\Users\\\\Admin\\\\AppData\\\\Local\\\\pypoetry\\\\Cache\\\\virtualenvs\\\\genetics-physics2d-113Tol8k-py3.10',\n",
       " '',\n",
       " 'c:\\\\Users\\\\Admin\\\\AppData\\\\Local\\\\pypoetry\\\\Cache\\\\virtualenvs\\\\genetics-physics2d-113Tol8k-py3.10\\\\lib\\\\site-packages',\n",
       " 'c:\\\\Users\\\\Admin\\\\AppData\\\\Local\\\\pypoetry\\\\Cache\\\\virtualenvs\\\\genetics-physics2d-113Tol8k-py3.10\\\\lib\\\\site-packages\\\\win32',\n",
       " 'c:\\\\Users\\\\Admin\\\\AppData\\\\Local\\\\pypoetry\\\\Cache\\\\virtualenvs\\\\genetics-physics2d-113Tol8k-py3.10\\\\lib\\\\site-packages\\\\win32\\\\lib',\n",
       " 'c:\\\\Users\\\\Admin\\\\AppData\\\\Local\\\\pypoetry\\\\Cache\\\\virtualenvs\\\\genetics-physics2d-113Tol8k-py3.10\\\\lib\\\\site-packages\\\\Pythonwin']"
      ]
     },
     "execution_count": 3,
     "metadata": {},
     "output_type": "execute_result"
    }
   ],
   "source": [
    "import sys\n",
    "sys.path"
   ]
  },
  {
   "cell_type": "code",
   "execution_count": 1,
   "metadata": {},
   "outputs": [
    {
     "name": "stdout",
     "output_type": "stream",
     "text": [
      "pygame 2.1.2 (SDL 2.0.18, Python 3.10.0)\n",
      "Hello from the pygame community. https://www.pygame.org/contribute.html\n"
     ]
    }
   ],
   "source": [
    "import main\n",
    "\n"
   ]
  },
  {
   "cell_type": "code",
   "execution_count": 52,
   "metadata": {},
   "outputs": [
    {
     "data": {
      "text/plain": [
       "pymunk.constraints.GrooveJoint"
      ]
     },
     "execution_count": 52,
     "metadata": {},
     "output_type": "execute_result"
    }
   ],
   "source": [
    "pymunk.GrooveJoint"
   ]
  },
  {
   "cell_type": "code",
   "execution_count": null,
   "metadata": {},
   "outputs": [],
   "source": []
  }
 ],
 "metadata": {
  "kernelspec": {
   "display_name": "Python 3.10.0 ('genetics-physics2d-113Tol8k-py3.10')",
   "language": "python",
   "name": "python3"
  },
  "language_info": {
   "codemirror_mode": {
    "name": "ipython",
    "version": 3
   },
   "file_extension": ".py",
   "mimetype": "text/x-python",
   "name": "python",
   "nbconvert_exporter": "python",
   "pygments_lexer": "ipython3",
   "version": "3.10.0 (tags/v3.10.0:b494f59, Oct  4 2021, 19:00:18) [MSC v.1929 64 bit (AMD64)]"
  },
  "orig_nbformat": 4,
  "vscode": {
   "interpreter": {
    "hash": "619eee03a80741d6742713c693836b8328321e1fc46f05aca0c7d2a5ef32c142"
   }
  }
 },
 "nbformat": 4,
 "nbformat_minor": 2
}
